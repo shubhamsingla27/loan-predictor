{
 "cells": [
  {
   "cell_type": "markdown",
   "id": "99f15889-9427-4f01-b7af-d8c902958baf",
   "metadata": {},
   "source": [
    "### 1. Create a S3 bucket"
   ]
  },
  {
   "cell_type": "code",
   "execution_count": 1,
   "id": "5a1a7bfb-6047-445b-b3f1-ce1e1b9d41ad",
   "metadata": {
    "tags": []
   },
   "outputs": [],
   "source": [
    "import boto3\n",
    "s3 = boto3.resource('s3')"
   ]
  },
  {
   "cell_type": "code",
   "execution_count": 32,
   "id": "a2df9ff0-1451-48b9-9f7e-d8701e2702a8",
   "metadata": {
    "tags": []
   },
   "outputs": [
    {
     "name": "stdout",
     "output_type": "stream",
     "text": [
      "S3 bucket has been created successfully\n"
     ]
    }
   ],
   "source": [
    "bucket_name = 'loan-default-predictor'\n",
    "try:\n",
    "    s3.create_bucket(Bucket=bucket_name)\n",
    "    print('S3 bucket has been created successfully')\n",
    "except Exception as e:\n",
    "    print('S3 error: ', e)"
   ]
  },
  {
   "cell_type": "markdown",
   "id": "e9ac8c3b-1da6-41c0-a2e8-b4d529a42e95",
   "metadata": {},
   "source": [
    "### 2. Loading and transforming the data"
   ]
  },
  {
   "cell_type": "code",
   "execution_count": 3,
   "id": "39e3c9f9-0366-4c02-a777-c7d1200cf9ff",
   "metadata": {
    "tags": []
   },
   "outputs": [],
   "source": [
    "import pandas as pd\n",
    "df=pd.read_csv('cresent_bank_short_data.csv')"
   ]
  },
  {
   "cell_type": "code",
   "execution_count": 5,
   "id": "c8f93c46-47bc-4ff0-a351-88102fea314c",
   "metadata": {
    "tags": []
   },
   "outputs": [
    {
     "name": "stdout",
     "output_type": "stream",
     "text": [
      "<class 'pandas.core.frame.DataFrame'>\n",
      "RangeIndex: 13718 entries, 0 to 13717\n",
      "Data columns (total 9 columns):\n",
      " #   Column                   Non-Null Count  Dtype  \n",
      "---  ------                   --------------  -----  \n",
      " 0   masked_acct              13718 non-null  object \n",
      " 1   MoodysUVIDiffCOFromOrig  13718 non-null  float64\n",
      " 2   VehicleValueBlackBook    13697 non-null  float64\n",
      " 3   FinancedAmt              13718 non-null  float64\n",
      " 4   PaymentAmt               13718 non-null  float64\n",
      " 5   TotalDownPmt             13718 non-null  float64\n",
      " 6   ChargeOffMOB             13718 non-null  int64  \n",
      " 7   FICOScore                9504 non-null   float64\n",
      " 8   true_recovery_rate       13718 non-null  float64\n",
      "dtypes: float64(7), int64(1), object(1)\n",
      "memory usage: 964.7+ KB\n"
     ]
    }
   ],
   "source": [
    "df.info()"
   ]
  },
  {
   "cell_type": "code",
   "execution_count": 6,
   "id": "f63f361c-5254-4977-9510-cbbfa5de5931",
   "metadata": {
    "tags": []
   },
   "outputs": [
    {
     "data": {
      "text/html": [
       "<div>\n",
       "<style scoped>\n",
       "    .dataframe tbody tr th:only-of-type {\n",
       "        vertical-align: middle;\n",
       "    }\n",
       "\n",
       "    .dataframe tbody tr th {\n",
       "        vertical-align: top;\n",
       "    }\n",
       "\n",
       "    .dataframe thead th {\n",
       "        text-align: right;\n",
       "    }\n",
       "</style>\n",
       "<table border=\"1\" class=\"dataframe\">\n",
       "  <thead>\n",
       "    <tr style=\"text-align: right;\">\n",
       "      <th></th>\n",
       "      <th>masked_acct</th>\n",
       "      <th>MoodysUVIDiffCOFromOrig</th>\n",
       "      <th>VehicleValueBlackBook</th>\n",
       "      <th>FinancedAmt</th>\n",
       "      <th>PaymentAmt</th>\n",
       "      <th>TotalDownPmt</th>\n",
       "      <th>ChargeOffMOB</th>\n",
       "      <th>FICOScore</th>\n",
       "      <th>true_recovery_rate</th>\n",
       "    </tr>\n",
       "  </thead>\n",
       "  <tbody>\n",
       "    <tr>\n",
       "      <th>0</th>\n",
       "      <td>0001374cd7856b8999ef0b661d515142</td>\n",
       "      <td>2.39</td>\n",
       "      <td>6100.0</td>\n",
       "      <td>10397.4502</td>\n",
       "      <td>282.20</td>\n",
       "      <td>750.0</td>\n",
       "      <td>15</td>\n",
       "      <td>535.0</td>\n",
       "      <td>0.1856</td>\n",
       "    </tr>\n",
       "    <tr>\n",
       "      <th>1</th>\n",
       "      <td>000170f205857037065589a606caae25</td>\n",
       "      <td>1.49</td>\n",
       "      <td>17575.0</td>\n",
       "      <td>22360.2500</td>\n",
       "      <td>538.19</td>\n",
       "      <td>2000.0</td>\n",
       "      <td>8</td>\n",
       "      <td>652.0</td>\n",
       "      <td>0.5442</td>\n",
       "    </tr>\n",
       "    <tr>\n",
       "      <th>2</th>\n",
       "      <td>00060788de8277720911f32a3b355754</td>\n",
       "      <td>-7.92</td>\n",
       "      <td>11225.0</td>\n",
       "      <td>11444.6602</td>\n",
       "      <td>278.61</td>\n",
       "      <td>4000.0</td>\n",
       "      <td>27</td>\n",
       "      <td>534.0</td>\n",
       "      <td>0.0000</td>\n",
       "    </tr>\n",
       "    <tr>\n",
       "      <th>3</th>\n",
       "      <td>000b9612a76d2800a8daad266c9e1eb1</td>\n",
       "      <td>-7.78</td>\n",
       "      <td>14050.0</td>\n",
       "      <td>16533.8203</td>\n",
       "      <td>377.50</td>\n",
       "      <td>1500.0</td>\n",
       "      <td>18</td>\n",
       "      <td>467.0</td>\n",
       "      <td>0.3586</td>\n",
       "    </tr>\n",
       "    <tr>\n",
       "      <th>4</th>\n",
       "      <td>000c9915e9eb935ee32c691e2f3efb49</td>\n",
       "      <td>0.56</td>\n",
       "      <td>10700.0</td>\n",
       "      <td>15157.8096</td>\n",
       "      <td>347.81</td>\n",
       "      <td>1200.0</td>\n",
       "      <td>8</td>\n",
       "      <td>495.0</td>\n",
       "      <td>0.5889</td>\n",
       "    </tr>\n",
       "    <tr>\n",
       "      <th>...</th>\n",
       "      <td>...</td>\n",
       "      <td>...</td>\n",
       "      <td>...</td>\n",
       "      <td>...</td>\n",
       "      <td>...</td>\n",
       "      <td>...</td>\n",
       "      <td>...</td>\n",
       "      <td>...</td>\n",
       "      <td>...</td>\n",
       "    </tr>\n",
       "    <tr>\n",
       "      <th>13713</th>\n",
       "      <td>ffe1824fff3e03deb2b60ec3085f220e</td>\n",
       "      <td>-7.49</td>\n",
       "      <td>8525.0</td>\n",
       "      <td>10748.2002</td>\n",
       "      <td>315.47</td>\n",
       "      <td>2000.0</td>\n",
       "      <td>28</td>\n",
       "      <td>NaN</td>\n",
       "      <td>0.1990</td>\n",
       "    </tr>\n",
       "    <tr>\n",
       "      <th>13714</th>\n",
       "      <td>ffe620e2913ec71c7237dffba00e4f88</td>\n",
       "      <td>-2.81</td>\n",
       "      <td>10175.0</td>\n",
       "      <td>14161.3896</td>\n",
       "      <td>339.04</td>\n",
       "      <td>1500.0</td>\n",
       "      <td>8</td>\n",
       "      <td>529.0</td>\n",
       "      <td>0.3380</td>\n",
       "    </tr>\n",
       "    <tr>\n",
       "      <th>13715</th>\n",
       "      <td>fff3e5cfb61567b4cbcde156dc646226</td>\n",
       "      <td>-5.94</td>\n",
       "      <td>13175.0</td>\n",
       "      <td>17433.4297</td>\n",
       "      <td>395.53</td>\n",
       "      <td>5000.0</td>\n",
       "      <td>20</td>\n",
       "      <td>503.0</td>\n",
       "      <td>0.4633</td>\n",
       "    </tr>\n",
       "    <tr>\n",
       "      <th>13716</th>\n",
       "      <td>fffb70be4982e918fe859491c7f1c043</td>\n",
       "      <td>-8.55</td>\n",
       "      <td>20900.0</td>\n",
       "      <td>25519.6699</td>\n",
       "      <td>538.79</td>\n",
       "      <td>2650.0</td>\n",
       "      <td>19</td>\n",
       "      <td>497.0</td>\n",
       "      <td>0.5452</td>\n",
       "    </tr>\n",
       "    <tr>\n",
       "      <th>13717</th>\n",
       "      <td>fffb7bc1238e1ef63301acf348d86d34</td>\n",
       "      <td>2.80</td>\n",
       "      <td>8400.0</td>\n",
       "      <td>11741.0000</td>\n",
       "      <td>290.60</td>\n",
       "      <td>3500.0</td>\n",
       "      <td>7</td>\n",
       "      <td>582.0</td>\n",
       "      <td>0.7438</td>\n",
       "    </tr>\n",
       "  </tbody>\n",
       "</table>\n",
       "<p>13718 rows × 9 columns</p>\n",
       "</div>"
      ],
      "text/plain": [
       "                            masked_acct  MoodysUVIDiffCOFromOrig  \\\n",
       "0      0001374cd7856b8999ef0b661d515142                     2.39   \n",
       "1      000170f205857037065589a606caae25                     1.49   \n",
       "2      00060788de8277720911f32a3b355754                    -7.92   \n",
       "3      000b9612a76d2800a8daad266c9e1eb1                    -7.78   \n",
       "4      000c9915e9eb935ee32c691e2f3efb49                     0.56   \n",
       "...                                 ...                      ...   \n",
       "13713  ffe1824fff3e03deb2b60ec3085f220e                    -7.49   \n",
       "13714  ffe620e2913ec71c7237dffba00e4f88                    -2.81   \n",
       "13715  fff3e5cfb61567b4cbcde156dc646226                    -5.94   \n",
       "13716  fffb70be4982e918fe859491c7f1c043                    -8.55   \n",
       "13717  fffb7bc1238e1ef63301acf348d86d34                     2.80   \n",
       "\n",
       "       VehicleValueBlackBook  FinancedAmt  PaymentAmt  TotalDownPmt  \\\n",
       "0                     6100.0   10397.4502      282.20         750.0   \n",
       "1                    17575.0   22360.2500      538.19        2000.0   \n",
       "2                    11225.0   11444.6602      278.61        4000.0   \n",
       "3                    14050.0   16533.8203      377.50        1500.0   \n",
       "4                    10700.0   15157.8096      347.81        1200.0   \n",
       "...                      ...          ...         ...           ...   \n",
       "13713                 8525.0   10748.2002      315.47        2000.0   \n",
       "13714                10175.0   14161.3896      339.04        1500.0   \n",
       "13715                13175.0   17433.4297      395.53        5000.0   \n",
       "13716                20900.0   25519.6699      538.79        2650.0   \n",
       "13717                 8400.0   11741.0000      290.60        3500.0   \n",
       "\n",
       "       ChargeOffMOB  FICOScore  true_recovery_rate  \n",
       "0                15      535.0              0.1856  \n",
       "1                 8      652.0              0.5442  \n",
       "2                27      534.0              0.0000  \n",
       "3                18      467.0              0.3586  \n",
       "4                 8      495.0              0.5889  \n",
       "...             ...        ...                 ...  \n",
       "13713            28        NaN              0.1990  \n",
       "13714             8      529.0              0.3380  \n",
       "13715            20      503.0              0.4633  \n",
       "13716            19      497.0              0.5452  \n",
       "13717             7      582.0              0.7438  \n",
       "\n",
       "[13718 rows x 9 columns]"
      ]
     },
     "execution_count": 6,
     "metadata": {},
     "output_type": "execute_result"
    }
   ],
   "source": [
    "df"
   ]
  },
  {
   "cell_type": "code",
   "execution_count": 7,
   "id": "70af3a2e-82a8-49fa-bbf9-d8f0d99e319e",
   "metadata": {
    "tags": []
   },
   "outputs": [],
   "source": [
    "df['FICOScore']=df['FICOScore'].fillna(df['FICOScore'].mean())\n",
    "df['VehicleValueBlackBook']=df['VehicleValueBlackBook'].fillna(df['VehicleValueBlackBook'].mean())"
   ]
  },
  {
   "cell_type": "code",
   "execution_count": 8,
   "id": "7efc8a59-aa46-41c5-93d6-e8f85675068b",
   "metadata": {
    "tags": []
   },
   "outputs": [],
   "source": [
    "target = df['true_recovery_rate']\n",
    "df = df.drop(columns = ['true_recovery_rate', 'masked_acct'])\n",
    "df.insert(0,'true_recovery_rate', target)"
   ]
  },
  {
   "cell_type": "code",
   "execution_count": 9,
   "id": "faea8377-0660-4f04-b8c5-a140cf553485",
   "metadata": {
    "tags": []
   },
   "outputs": [
    {
     "data": {
      "text/plain": [
       "true_recovery_rate         1.000000\n",
       "MoodysUVIDiffCOFromOrig    0.265788\n",
       "VehicleValueBlackBook      0.213596\n",
       "FinancedAmt                0.152556\n",
       "PaymentAmt                 0.133799\n",
       "TotalDownPmt               0.099443\n",
       "FICOScore                 -0.023946\n",
       "ChargeOffMOB              -0.309455\n",
       "Name: true_recovery_rate, dtype: float64"
      ]
     },
     "execution_count": 9,
     "metadata": {},
     "output_type": "execute_result"
    }
   ],
   "source": [
    "Correlation = df.corr()\n",
    "Correlation['true_recovery_rate'].sort_values(ascending = 0)"
   ]
  },
  {
   "cell_type": "markdown",
   "id": "c7bc26b8-69ab-4e1e-bdec-b53c457ef710",
   "metadata": {},
   "source": [
    "### 3. Train test split"
   ]
  },
  {
   "cell_type": "code",
   "execution_count": 10,
   "id": "33d92b2e-9ec9-4fe7-b136-9271db7ecbdc",
   "metadata": {
    "tags": []
   },
   "outputs": [
    {
     "data": {
      "text/html": [
       "<div>\n",
       "<style scoped>\n",
       "    .dataframe tbody tr th:only-of-type {\n",
       "        vertical-align: middle;\n",
       "    }\n",
       "\n",
       "    .dataframe tbody tr th {\n",
       "        vertical-align: top;\n",
       "    }\n",
       "\n",
       "    .dataframe thead th {\n",
       "        text-align: right;\n",
       "    }\n",
       "</style>\n",
       "<table border=\"1\" class=\"dataframe\">\n",
       "  <thead>\n",
       "    <tr style=\"text-align: right;\">\n",
       "      <th></th>\n",
       "      <th>true_recovery_rate</th>\n",
       "      <th>MoodysUVIDiffCOFromOrig</th>\n",
       "      <th>VehicleValueBlackBook</th>\n",
       "      <th>FinancedAmt</th>\n",
       "      <th>PaymentAmt</th>\n",
       "      <th>TotalDownPmt</th>\n",
       "      <th>ChargeOffMOB</th>\n",
       "      <th>FICOScore</th>\n",
       "    </tr>\n",
       "  </thead>\n",
       "  <tbody>\n",
       "    <tr>\n",
       "      <th>3856</th>\n",
       "      <td>0.3326</td>\n",
       "      <td>-6.59</td>\n",
       "      <td>10800.0</td>\n",
       "      <td>17292.5293</td>\n",
       "      <td>372.73</td>\n",
       "      <td>4500.0</td>\n",
       "      <td>31</td>\n",
       "      <td>521.365109</td>\n",
       "    </tr>\n",
       "    <tr>\n",
       "      <th>8983</th>\n",
       "      <td>0.6581</td>\n",
       "      <td>-2.39</td>\n",
       "      <td>14825.0</td>\n",
       "      <td>17969.2891</td>\n",
       "      <td>394.92</td>\n",
       "      <td>2500.0</td>\n",
       "      <td>9</td>\n",
       "      <td>497.000000</td>\n",
       "    </tr>\n",
       "    <tr>\n",
       "      <th>4135</th>\n",
       "      <td>0.5997</td>\n",
       "      <td>0.49</td>\n",
       "      <td>10225.0</td>\n",
       "      <td>15160.0000</td>\n",
       "      <td>340.71</td>\n",
       "      <td>1335.0</td>\n",
       "      <td>9</td>\n",
       "      <td>521.365109</td>\n",
       "    </tr>\n",
       "    <tr>\n",
       "      <th>4075</th>\n",
       "      <td>0.3489</td>\n",
       "      <td>-5.55</td>\n",
       "      <td>12850.0</td>\n",
       "      <td>18795.6309</td>\n",
       "      <td>459.44</td>\n",
       "      <td>1990.0</td>\n",
       "      <td>17</td>\n",
       "      <td>545.000000</td>\n",
       "    </tr>\n",
       "    <tr>\n",
       "      <th>4042</th>\n",
       "      <td>0.0397</td>\n",
       "      <td>-10.49</td>\n",
       "      <td>12825.0</td>\n",
       "      <td>15295.2002</td>\n",
       "      <td>348.00</td>\n",
       "      <td>3500.0</td>\n",
       "      <td>20</td>\n",
       "      <td>590.000000</td>\n",
       "    </tr>\n",
       "    <tr>\n",
       "      <th>...</th>\n",
       "      <td>...</td>\n",
       "      <td>...</td>\n",
       "      <td>...</td>\n",
       "      <td>...</td>\n",
       "      <td>...</td>\n",
       "      <td>...</td>\n",
       "      <td>...</td>\n",
       "      <td>...</td>\n",
       "    </tr>\n",
       "    <tr>\n",
       "      <th>5218</th>\n",
       "      <td>0.3784</td>\n",
       "      <td>-9.30</td>\n",
       "      <td>14175.0</td>\n",
       "      <td>18250.8008</td>\n",
       "      <td>440.80</td>\n",
       "      <td>5200.0</td>\n",
       "      <td>16</td>\n",
       "      <td>465.000000</td>\n",
       "    </tr>\n",
       "    <tr>\n",
       "      <th>12252</th>\n",
       "      <td>0.1252</td>\n",
       "      <td>-3.78</td>\n",
       "      <td>10000.0</td>\n",
       "      <td>15990.0000</td>\n",
       "      <td>381.68</td>\n",
       "      <td>3000.0</td>\n",
       "      <td>9</td>\n",
       "      <td>521.365109</td>\n",
       "    </tr>\n",
       "    <tr>\n",
       "      <th>1346</th>\n",
       "      <td>0.7074</td>\n",
       "      <td>-0.79</td>\n",
       "      <td>14675.0</td>\n",
       "      <td>17144.0000</td>\n",
       "      <td>439.89</td>\n",
       "      <td>1000.0</td>\n",
       "      <td>8</td>\n",
       "      <td>477.000000</td>\n",
       "    </tr>\n",
       "    <tr>\n",
       "      <th>11646</th>\n",
       "      <td>0.0151</td>\n",
       "      <td>-11.40</td>\n",
       "      <td>4200.0</td>\n",
       "      <td>12672.6104</td>\n",
       "      <td>383.28</td>\n",
       "      <td>1000.0</td>\n",
       "      <td>37</td>\n",
       "      <td>521.365109</td>\n",
       "    </tr>\n",
       "    <tr>\n",
       "      <th>3582</th>\n",
       "      <td>0.5390</td>\n",
       "      <td>-10.71</td>\n",
       "      <td>14850.0</td>\n",
       "      <td>27158.0000</td>\n",
       "      <td>662.22</td>\n",
       "      <td>5000.0</td>\n",
       "      <td>23</td>\n",
       "      <td>527.000000</td>\n",
       "    </tr>\n",
       "  </tbody>\n",
       "</table>\n",
       "<p>13718 rows × 8 columns</p>\n",
       "</div>"
      ],
      "text/plain": [
       "       true_recovery_rate  MoodysUVIDiffCOFromOrig  VehicleValueBlackBook  \\\n",
       "3856               0.3326                    -6.59                10800.0   \n",
       "8983               0.6581                    -2.39                14825.0   \n",
       "4135               0.5997                     0.49                10225.0   \n",
       "4075               0.3489                    -5.55                12850.0   \n",
       "4042               0.0397                   -10.49                12825.0   \n",
       "...                   ...                      ...                    ...   \n",
       "5218               0.3784                    -9.30                14175.0   \n",
       "12252              0.1252                    -3.78                10000.0   \n",
       "1346               0.7074                    -0.79                14675.0   \n",
       "11646              0.0151                   -11.40                 4200.0   \n",
       "3582               0.5390                   -10.71                14850.0   \n",
       "\n",
       "       FinancedAmt  PaymentAmt  TotalDownPmt  ChargeOffMOB   FICOScore  \n",
       "3856    17292.5293      372.73        4500.0            31  521.365109  \n",
       "8983    17969.2891      394.92        2500.0             9  497.000000  \n",
       "4135    15160.0000      340.71        1335.0             9  521.365109  \n",
       "4075    18795.6309      459.44        1990.0            17  545.000000  \n",
       "4042    15295.2002      348.00        3500.0            20  590.000000  \n",
       "...            ...         ...           ...           ...         ...  \n",
       "5218    18250.8008      440.80        5200.0            16  465.000000  \n",
       "12252   15990.0000      381.68        3000.0             9  521.365109  \n",
       "1346    17144.0000      439.89        1000.0             8  477.000000  \n",
       "11646   12672.6104      383.28        1000.0            37  521.365109  \n",
       "3582    27158.0000      662.22        5000.0            23  527.000000  \n",
       "\n",
       "[13718 rows x 8 columns]"
      ]
     },
     "execution_count": 10,
     "metadata": {},
     "output_type": "execute_result"
    }
   ],
   "source": [
    "import numpy as np\n",
    "df_randomized = df.sample(frac=1, random_state=123)\n",
    "df_randomized"
   ]
  },
  {
   "cell_type": "code",
   "execution_count": 11,
   "id": "291771af-652f-4350-ad70-a4d1bb84f577",
   "metadata": {
    "tags": []
   },
   "outputs": [
    {
     "name": "stdout",
     "output_type": "stream",
     "text": [
      "(9602, 8) (4116, 8)\n"
     ]
    }
   ],
   "source": [
    "train_data, test_data = np.split(df_randomized, [int(0.7*len(df_randomized))])\n",
    "\n",
    "print(train_data.shape, test_data.shape)"
   ]
  },
  {
   "cell_type": "markdown",
   "id": "b7693b16-c855-4e88-9a9f-90f1fe67f21a",
   "metadata": {},
   "source": [
    "### 3.1 Setting up path to upload the datasets to S3"
   ]
  },
  {
   "cell_type": "code",
   "execution_count": 12,
   "id": "05e77a0a-d00c-4062-b8fc-200d6850fb97",
   "metadata": {
    "tags": []
   },
   "outputs": [
    {
     "name": "stdout",
     "output_type": "stream",
     "text": [
      "s3://loan-default-predictor/datasets/train.csv\n",
      "s3://loan-default-predictor/datasets/test.csv\n"
     ]
    }
   ],
   "source": [
    "import os\n",
    "\n",
    "prefix = 'datasets'\n",
    "\n",
    "train_csv_path = 's3://{}/{}/{}'.format(bucket_name, prefix, 'train.csv')\n",
    "test_csv_path = 's3://{}/{}/{}'.format(bucket_name, prefix, 'test.csv')\n",
    "\n",
    "print(train_csv_path)\n",
    "print(test_csv_path)"
   ]
  },
  {
   "cell_type": "code",
   "execution_count": 13,
   "id": "753b0591-fac3-4920-bb1f-ededc4c05f46",
   "metadata": {
    "tags": []
   },
   "outputs": [],
   "source": [
    "train_data.to_csv(train_csv_path, index = False, header = False)\n",
    "test_data.to_csv(test_csv_path, index = False, header = False)"
   ]
  },
  {
   "cell_type": "code",
   "execution_count": 14,
   "id": "23cb4817-9291-456f-ae60-12c2f5ab7185",
   "metadata": {
    "tags": []
   },
   "outputs": [],
   "source": [
    "X_train = train_data.drop(columns = ['true_recovery_rate'])\n",
    "y_train = train_data['true_recovery_rate']\n",
    "\n",
    "X_test = test_data.drop(columns = ['true_recovery_rate'])\n",
    "y_test = test_data['true_recovery_rate']"
   ]
  },
  {
   "cell_type": "code",
   "execution_count": 15,
   "id": "20348f92-b426-41ab-9eae-0e095954b805",
   "metadata": {
    "tags": []
   },
   "outputs": [
    {
     "data": {
      "text/plain": [
       "((9602, 7), (4116, 7), (9602,))"
      ]
     },
     "execution_count": 15,
     "metadata": {},
     "output_type": "execute_result"
    }
   ],
   "source": [
    "X_train.shape, X_test.shape, y_train.shape"
   ]
  },
  {
   "cell_type": "markdown",
   "id": "a331714f-750e-432d-ab98-5601fa2fac1d",
   "metadata": {},
   "source": [
    "### 4. Using Linear Regression model"
   ]
  },
  {
   "cell_type": "code",
   "execution_count": 16,
   "id": "f9f62bfe-94b0-4e05-ba17-9cf2096092d2",
   "metadata": {
    "tags": []
   },
   "outputs": [
    {
     "data": {
      "text/html": [
       "<style>#sk-container-id-1 {color: black;background-color: white;}#sk-container-id-1 pre{padding: 0;}#sk-container-id-1 div.sk-toggleable {background-color: white;}#sk-container-id-1 label.sk-toggleable__label {cursor: pointer;display: block;width: 100%;margin-bottom: 0;padding: 0.3em;box-sizing: border-box;text-align: center;}#sk-container-id-1 label.sk-toggleable__label-arrow:before {content: \"▸\";float: left;margin-right: 0.25em;color: #696969;}#sk-container-id-1 label.sk-toggleable__label-arrow:hover:before {color: black;}#sk-container-id-1 div.sk-estimator:hover label.sk-toggleable__label-arrow:before {color: black;}#sk-container-id-1 div.sk-toggleable__content {max-height: 0;max-width: 0;overflow: hidden;text-align: left;background-color: #f0f8ff;}#sk-container-id-1 div.sk-toggleable__content pre {margin: 0.2em;color: black;border-radius: 0.25em;background-color: #f0f8ff;}#sk-container-id-1 input.sk-toggleable__control:checked~div.sk-toggleable__content {max-height: 200px;max-width: 100%;overflow: auto;}#sk-container-id-1 input.sk-toggleable__control:checked~label.sk-toggleable__label-arrow:before {content: \"▾\";}#sk-container-id-1 div.sk-estimator input.sk-toggleable__control:checked~label.sk-toggleable__label {background-color: #d4ebff;}#sk-container-id-1 div.sk-label input.sk-toggleable__control:checked~label.sk-toggleable__label {background-color: #d4ebff;}#sk-container-id-1 input.sk-hidden--visually {border: 0;clip: rect(1px 1px 1px 1px);clip: rect(1px, 1px, 1px, 1px);height: 1px;margin: -1px;overflow: hidden;padding: 0;position: absolute;width: 1px;}#sk-container-id-1 div.sk-estimator {font-family: monospace;background-color: #f0f8ff;border: 1px dotted black;border-radius: 0.25em;box-sizing: border-box;margin-bottom: 0.5em;}#sk-container-id-1 div.sk-estimator:hover {background-color: #d4ebff;}#sk-container-id-1 div.sk-parallel-item::after {content: \"\";width: 100%;border-bottom: 1px solid gray;flex-grow: 1;}#sk-container-id-1 div.sk-label:hover label.sk-toggleable__label {background-color: #d4ebff;}#sk-container-id-1 div.sk-serial::before {content: \"\";position: absolute;border-left: 1px solid gray;box-sizing: border-box;top: 0;bottom: 0;left: 50%;z-index: 0;}#sk-container-id-1 div.sk-serial {display: flex;flex-direction: column;align-items: center;background-color: white;padding-right: 0.2em;padding-left: 0.2em;position: relative;}#sk-container-id-1 div.sk-item {position: relative;z-index: 1;}#sk-container-id-1 div.sk-parallel {display: flex;align-items: stretch;justify-content: center;background-color: white;position: relative;}#sk-container-id-1 div.sk-item::before, #sk-container-id-1 div.sk-parallel-item::before {content: \"\";position: absolute;border-left: 1px solid gray;box-sizing: border-box;top: 0;bottom: 0;left: 50%;z-index: -1;}#sk-container-id-1 div.sk-parallel-item {display: flex;flex-direction: column;z-index: 1;position: relative;background-color: white;}#sk-container-id-1 div.sk-parallel-item:first-child::after {align-self: flex-end;width: 50%;}#sk-container-id-1 div.sk-parallel-item:last-child::after {align-self: flex-start;width: 50%;}#sk-container-id-1 div.sk-parallel-item:only-child::after {width: 0;}#sk-container-id-1 div.sk-dashed-wrapped {border: 1px dashed gray;margin: 0 0.4em 0.5em 0.4em;box-sizing: border-box;padding-bottom: 0.4em;background-color: white;}#sk-container-id-1 div.sk-label label {font-family: monospace;font-weight: bold;display: inline-block;line-height: 1.2em;}#sk-container-id-1 div.sk-label-container {text-align: center;}#sk-container-id-1 div.sk-container {/* jupyter's `normalize.less` sets `[hidden] { display: none; }` but bootstrap.min.css set `[hidden] { display: none !important; }` so we also need the `!important` here to be able to override the default hidden behavior on the sphinx rendered scikit-learn.org. See: https://github.com/scikit-learn/scikit-learn/issues/21755 */display: inline-block !important;position: relative;}#sk-container-id-1 div.sk-text-repr-fallback {display: none;}</style><div id=\"sk-container-id-1\" class=\"sk-top-container\"><div class=\"sk-text-repr-fallback\"><pre>LinearRegression()</pre><b>In a Jupyter environment, please rerun this cell to show the HTML representation or trust the notebook. <br />On GitHub, the HTML representation is unable to render, please try loading this page with nbviewer.org.</b></div><div class=\"sk-container\" hidden><div class=\"sk-item\"><div class=\"sk-estimator sk-toggleable\"><input class=\"sk-toggleable__control sk-hidden--visually\" id=\"sk-estimator-id-1\" type=\"checkbox\" checked><label for=\"sk-estimator-id-1\" class=\"sk-toggleable__label sk-toggleable__label-arrow\">LinearRegression</label><div class=\"sk-toggleable__content\"><pre>LinearRegression()</pre></div></div></div></div></div>"
      ],
      "text/plain": [
       "LinearRegression()"
      ]
     },
     "execution_count": 16,
     "metadata": {},
     "output_type": "execute_result"
    }
   ],
   "source": [
    "from sklearn.linear_model import LinearRegression\n",
    "\n",
    "my_model = LinearRegression()\n",
    "my_model.fit(X_train, y_train)"
   ]
  },
  {
   "cell_type": "markdown",
   "id": "9d6594fa-7333-4753-906b-a27b918081c0",
   "metadata": {},
   "source": [
    "#### 4.1 Calculating error for Linear Regression model:"
   ]
  },
  {
   "cell_type": "code",
   "execution_count": 17,
   "id": "21e8eb05-2376-4c8d-8703-dd274c6c7d32",
   "metadata": {
    "tags": []
   },
   "outputs": [
    {
     "data": {
      "text/plain": [
       "(array([0.16228249]), 0.20963028895147168)"
      ]
     },
     "execution_count": 17,
     "metadata": {},
     "output_type": "execute_result"
    }
   ],
   "source": [
    "y_pred_test = my_model.predict(X_test)\n",
    "\n",
    "# MAE\n",
    "e = y_test - y_pred_test\n",
    "## absolute, mean\n",
    "MAE = np.sum(np.abs(e))/y_test.shape\n",
    "np.mean(np.abs(e))\n",
    "\n",
    "# MSE\n",
    "MSE = np.mean(e**2)\n",
    "\n",
    "# RMSE\n",
    "RMSE = MSE**0.5\n",
    "\n",
    "MAE, RMSE"
   ]
  },
  {
   "cell_type": "markdown",
   "id": "12c60b6a-2c64-4020-bc2f-7820bc379ed3",
   "metadata": {},
   "source": [
    "### 5. Using Lasso model"
   ]
  },
  {
   "cell_type": "code",
   "execution_count": 18,
   "id": "13154092-89c9-4a5d-bcd5-b16e85104155",
   "metadata": {
    "tags": []
   },
   "outputs": [
    {
     "data": {
      "text/html": [
       "<style>#sk-container-id-2 {color: black;background-color: white;}#sk-container-id-2 pre{padding: 0;}#sk-container-id-2 div.sk-toggleable {background-color: white;}#sk-container-id-2 label.sk-toggleable__label {cursor: pointer;display: block;width: 100%;margin-bottom: 0;padding: 0.3em;box-sizing: border-box;text-align: center;}#sk-container-id-2 label.sk-toggleable__label-arrow:before {content: \"▸\";float: left;margin-right: 0.25em;color: #696969;}#sk-container-id-2 label.sk-toggleable__label-arrow:hover:before {color: black;}#sk-container-id-2 div.sk-estimator:hover label.sk-toggleable__label-arrow:before {color: black;}#sk-container-id-2 div.sk-toggleable__content {max-height: 0;max-width: 0;overflow: hidden;text-align: left;background-color: #f0f8ff;}#sk-container-id-2 div.sk-toggleable__content pre {margin: 0.2em;color: black;border-radius: 0.25em;background-color: #f0f8ff;}#sk-container-id-2 input.sk-toggleable__control:checked~div.sk-toggleable__content {max-height: 200px;max-width: 100%;overflow: auto;}#sk-container-id-2 input.sk-toggleable__control:checked~label.sk-toggleable__label-arrow:before {content: \"▾\";}#sk-container-id-2 div.sk-estimator input.sk-toggleable__control:checked~label.sk-toggleable__label {background-color: #d4ebff;}#sk-container-id-2 div.sk-label input.sk-toggleable__control:checked~label.sk-toggleable__label {background-color: #d4ebff;}#sk-container-id-2 input.sk-hidden--visually {border: 0;clip: rect(1px 1px 1px 1px);clip: rect(1px, 1px, 1px, 1px);height: 1px;margin: -1px;overflow: hidden;padding: 0;position: absolute;width: 1px;}#sk-container-id-2 div.sk-estimator {font-family: monospace;background-color: #f0f8ff;border: 1px dotted black;border-radius: 0.25em;box-sizing: border-box;margin-bottom: 0.5em;}#sk-container-id-2 div.sk-estimator:hover {background-color: #d4ebff;}#sk-container-id-2 div.sk-parallel-item::after {content: \"\";width: 100%;border-bottom: 1px solid gray;flex-grow: 1;}#sk-container-id-2 div.sk-label:hover label.sk-toggleable__label {background-color: #d4ebff;}#sk-container-id-2 div.sk-serial::before {content: \"\";position: absolute;border-left: 1px solid gray;box-sizing: border-box;top: 0;bottom: 0;left: 50%;z-index: 0;}#sk-container-id-2 div.sk-serial {display: flex;flex-direction: column;align-items: center;background-color: white;padding-right: 0.2em;padding-left: 0.2em;position: relative;}#sk-container-id-2 div.sk-item {position: relative;z-index: 1;}#sk-container-id-2 div.sk-parallel {display: flex;align-items: stretch;justify-content: center;background-color: white;position: relative;}#sk-container-id-2 div.sk-item::before, #sk-container-id-2 div.sk-parallel-item::before {content: \"\";position: absolute;border-left: 1px solid gray;box-sizing: border-box;top: 0;bottom: 0;left: 50%;z-index: -1;}#sk-container-id-2 div.sk-parallel-item {display: flex;flex-direction: column;z-index: 1;position: relative;background-color: white;}#sk-container-id-2 div.sk-parallel-item:first-child::after {align-self: flex-end;width: 50%;}#sk-container-id-2 div.sk-parallel-item:last-child::after {align-self: flex-start;width: 50%;}#sk-container-id-2 div.sk-parallel-item:only-child::after {width: 0;}#sk-container-id-2 div.sk-dashed-wrapped {border: 1px dashed gray;margin: 0 0.4em 0.5em 0.4em;box-sizing: border-box;padding-bottom: 0.4em;background-color: white;}#sk-container-id-2 div.sk-label label {font-family: monospace;font-weight: bold;display: inline-block;line-height: 1.2em;}#sk-container-id-2 div.sk-label-container {text-align: center;}#sk-container-id-2 div.sk-container {/* jupyter's `normalize.less` sets `[hidden] { display: none; }` but bootstrap.min.css set `[hidden] { display: none !important; }` so we also need the `!important` here to be able to override the default hidden behavior on the sphinx rendered scikit-learn.org. See: https://github.com/scikit-learn/scikit-learn/issues/21755 */display: inline-block !important;position: relative;}#sk-container-id-2 div.sk-text-repr-fallback {display: none;}</style><div id=\"sk-container-id-2\" class=\"sk-top-container\"><div class=\"sk-text-repr-fallback\"><pre>GridSearchCV(cv=5, estimator=Lasso(), param_grid={&#x27;alpha&#x27;: [0.0001]})</pre><b>In a Jupyter environment, please rerun this cell to show the HTML representation or trust the notebook. <br />On GitHub, the HTML representation is unable to render, please try loading this page with nbviewer.org.</b></div><div class=\"sk-container\" hidden><div class=\"sk-item sk-dashed-wrapped\"><div class=\"sk-label-container\"><div class=\"sk-label sk-toggleable\"><input class=\"sk-toggleable__control sk-hidden--visually\" id=\"sk-estimator-id-2\" type=\"checkbox\" ><label for=\"sk-estimator-id-2\" class=\"sk-toggleable__label sk-toggleable__label-arrow\">GridSearchCV</label><div class=\"sk-toggleable__content\"><pre>GridSearchCV(cv=5, estimator=Lasso(), param_grid={&#x27;alpha&#x27;: [0.0001]})</pre></div></div></div><div class=\"sk-parallel\"><div class=\"sk-parallel-item\"><div class=\"sk-item\"><div class=\"sk-label-container\"><div class=\"sk-label sk-toggleable\"><input class=\"sk-toggleable__control sk-hidden--visually\" id=\"sk-estimator-id-3\" type=\"checkbox\" ><label for=\"sk-estimator-id-3\" class=\"sk-toggleable__label sk-toggleable__label-arrow\">estimator: Lasso</label><div class=\"sk-toggleable__content\"><pre>Lasso()</pre></div></div></div><div class=\"sk-serial\"><div class=\"sk-item\"><div class=\"sk-estimator sk-toggleable\"><input class=\"sk-toggleable__control sk-hidden--visually\" id=\"sk-estimator-id-4\" type=\"checkbox\" ><label for=\"sk-estimator-id-4\" class=\"sk-toggleable__label sk-toggleable__label-arrow\">Lasso</label><div class=\"sk-toggleable__content\"><pre>Lasso()</pre></div></div></div></div></div></div></div></div></div></div>"
      ],
      "text/plain": [
       "GridSearchCV(cv=5, estimator=Lasso(), param_grid={'alpha': [0.0001]})"
      ]
     },
     "execution_count": 18,
     "metadata": {},
     "output_type": "execute_result"
    }
   ],
   "source": [
    "from sklearn.linear_model import Lasso\n",
    "from sklearn.model_selection import GridSearchCV\n",
    "\n",
    "# Grid Search with CV - LASSO Case\n",
    "lasso_grid = { 'alpha' : [0.0001]}\n",
    "\n",
    "# 2. Define function and fit the data\n",
    "# EST\n",
    "lasso = Lasso()\n",
    "\n",
    "lasso_cv_reg = GridSearchCV(lasso, lasso_grid, cv = 5)\n",
    "\n",
    "lasso_cv_reg.fit(X_train, y_train)"
   ]
  },
  {
   "cell_type": "markdown",
   "id": "0b88b61b-1724-478b-b9dc-8145d4138ef4",
   "metadata": {},
   "source": [
    "#### 5.1 Calculating errors for Lasso"
   ]
  },
  {
   "cell_type": "code",
   "execution_count": 19,
   "id": "f815a1cb-2daf-4959-b762-7861ef702091",
   "metadata": {
    "tags": []
   },
   "outputs": [
    {
     "data": {
      "text/plain": [
       "0.2096303528700987"
      ]
     },
     "execution_count": 19,
     "metadata": {},
     "output_type": "execute_result"
    }
   ],
   "source": [
    "# error\n",
    "y_test_L1 = lasso_cv_reg.predict(X_test)\n",
    "e = y_test - y_test_L1\n",
    "\n",
    "# MSE_l1 = np.mean(e**2)\n",
    "MSE_lp = np.mean(e**2)\n",
    "\n",
    "# RMSE\n",
    "RMSE_l1 = MSE_lp**0.5\n",
    "\n",
    "RMSE_l1"
   ]
  },
  {
   "cell_type": "markdown",
   "id": "1378fe12-62e0-41f1-b73d-54694d30681d",
   "metadata": {},
   "source": [
    "### 6. Build XGBoost Model"
   ]
  },
  {
   "cell_type": "code",
   "execution_count": 20,
   "id": "1e6b0799-8c0f-48f2-9c00-6fdf1be4f61f",
   "metadata": {
    "tags": []
   },
   "outputs": [],
   "source": [
    "import sagemaker\n",
    "from sagemaker import image_uris\n",
    "from sagemaker.session import Session\n",
    "from sagemaker.inputs import TrainingInput"
   ]
  },
  {
   "cell_type": "markdown",
   "id": "8e98b96d-6c66-4a94-94dc-b1406d64a93e",
   "metadata": {},
   "source": [
    "### 6.1 Selecting the XGBoost container"
   ]
  },
  {
   "cell_type": "code",
   "execution_count": 21,
   "id": "770f6699-6e9e-4e08-a71a-a2ede01398a4",
   "metadata": {
    "tags": []
   },
   "outputs": [
    {
     "data": {
      "text/plain": [
       "'683313688378.dkr.ecr.us-east-1.amazonaws.com/sagemaker-xgboost:1.5-1'"
      ]
     },
     "metadata": {},
     "output_type": "display_data"
    }
   ],
   "source": [
    "xgboost_container = image_uris.retrieve(\"xgboost\", boto3.Session().region_name, \"1.5-1\")\n",
    "\n",
    "display(xgboost_container)"
   ]
  },
  {
   "cell_type": "markdown",
   "id": "0d1cb1e1-1af9-4d43-8d62-7956cc94a0a0",
   "metadata": {},
   "source": [
    "### 6.2 Initializing the hyperparameters"
   ]
  },
  {
   "cell_type": "code",
   "execution_count": 22,
   "id": "7dc02a17-7973-4370-aad1-f4a0aca6beb8",
   "metadata": {
    "tags": []
   },
   "outputs": [],
   "source": [
    "hyperparameters = {\n",
    "        \"max_depth\":\"5\",\n",
    "        \"eta\":\"0.2\",\n",
    "        \"gamma\":\"4\",\n",
    "        \"min_child_weight\":\"6\",\n",
    "        \"subsample\":\"0.7\",\n",
    "        \"objective\":\"reg:squarederror\",\n",
    "        \"num_round\":\"50\"\n",
    "}"
   ]
  },
  {
   "cell_type": "markdown",
   "id": "84bc0695-7563-4a0f-a715-ed28965c05c8",
   "metadata": {},
   "source": [
    "### 6.3 Setting an output path to store the trained model"
   ]
  },
  {
   "cell_type": "code",
   "execution_count": 23,
   "id": "4e338ac5-1887-4623-b0d2-313b241d587f",
   "metadata": {
    "tags": []
   },
   "outputs": [
    {
     "name": "stdout",
     "output_type": "stream",
     "text": [
      "s3://loan-default-predictor/output/\n"
     ]
    }
   ],
   "source": [
    "output_path = 's3://{}/{}/'.format(bucket_name, 'output')\n",
    "\n",
    "print(output_path)"
   ]
  },
  {
   "cell_type": "markdown",
   "id": "947114be-c000-4c12-8e55-c5e04ca46c7c",
   "metadata": {},
   "source": [
    "### 6.4 Constructing a SageMaker estimator that calls the xgboost-container"
   ]
  },
  {
   "cell_type": "code",
   "execution_count": 24,
   "id": "e24f02a4-0a45-4e9d-901f-803cb4580a21",
   "metadata": {
    "tags": []
   },
   "outputs": [],
   "source": [
    "estimator = sagemaker.estimator.Estimator(image_uri = xgboost_container, \n",
    "                                          hyperparameters = hyperparameters,\n",
    "                                          role = sagemaker.get_execution_role(),\n",
    "                                          instance_count = 1, \n",
    "                                          instance_type = 'ml.m5.large', \n",
    "                                          volume_size = 5, # 5 GB \n",
    "                                          output_path = output_path,\n",
    "                                          use_spot_instances = True,\n",
    "                                          max_run = 300,\n",
    "                                          max_wait = 600\n",
    "                                         )"
   ]
  },
  {
   "cell_type": "markdown",
   "id": "32fd5665-de6d-469a-a212-d06f144a4025",
   "metadata": {},
   "source": [
    "### 6.5 Define the data type and paths to the training and validation datasets"
   ]
  },
  {
   "cell_type": "code",
   "execution_count": 25,
   "id": "bd318d41-a999-4440-9252-6d69f29f0a8b",
   "metadata": {
    "tags": []
   },
   "outputs": [],
   "source": [
    "train_input = TrainingInput(\n",
    "    \"s3://{}/{}/{}\".format(bucket_name, prefix, \"train.csv\"), content_type=\"csv\"\n",
    ")\n",
    "test_input = TrainingInput(\n",
    "    \"s3://{}/{}/{}\".format(bucket_name, prefix, \"test.csv\"), content_type=\"csv\"\n",
    ")"
   ]
  },
  {
   "cell_type": "markdown",
   "id": "3c151fa1-0842-411b-afb8-36b7a53de4a8",
   "metadata": {
    "tags": []
   },
   "source": [
    "### 6.6 Execute the XGBoost training job"
   ]
  },
  {
   "cell_type": "code",
   "execution_count": 26,
   "id": "b01278c7-a477-4701-bd7d-161e5750819a",
   "metadata": {
    "tags": []
   },
   "outputs": [
    {
     "name": "stderr",
     "output_type": "stream",
     "text": [
      "INFO:sagemaker:Creating training-job with name: sagemaker-xgboost-2023-03-15-19-26-47-789\n"
     ]
    },
    {
     "name": "stdout",
     "output_type": "stream",
     "text": [
      "2023-03-15 19:26:47 Starting - Starting the training job...\n",
      "2023-03-15 19:27:04 Starting - Preparing the instances for training......\n",
      "2023-03-15 19:27:56 Downloading - Downloading input data...\n",
      "2023-03-15 19:28:37 Training - Downloading the training image.....\u001b[34m[2023-03-15 19:29:27.452 ip-10-0-159-6.ec2.internal:7 INFO utils.py:28] RULE_JOB_STOP_SIGNAL_FILENAME: None\u001b[0m\n",
      "\u001b[34m[2023-03-15 19:29:27.526 ip-10-0-159-6.ec2.internal:7 INFO profiler_config_parser.py:111] User has disabled profiler.\u001b[0m\n",
      "\u001b[34m[2023-03-15:19:29:27:INFO] Imported framework sagemaker_xgboost_container.training\u001b[0m\n",
      "\u001b[34m[2023-03-15:19:29:27:INFO] Failed to parse hyperparameter objective value reg:squarederror to Json.\u001b[0m\n",
      "\u001b[34mReturning the value itself\u001b[0m\n",
      "\u001b[34m[2023-03-15:19:29:27:INFO] No GPUs detected (normal if no gpus installed)\u001b[0m\n",
      "\u001b[34m[2023-03-15:19:29:27:INFO] Running XGBoost Sagemaker in algorithm mode\u001b[0m\n",
      "\u001b[34m[2023-03-15:19:29:27:INFO] Determined 0 GPU(s) available on the instance.\u001b[0m\n",
      "\u001b[34m[2023-03-15:19:29:27:INFO] Determined delimiter of CSV input is ','\u001b[0m\n",
      "\u001b[34m[2023-03-15:19:29:27:INFO] Determined delimiter of CSV input is ','\u001b[0m\n",
      "\u001b[34m[2023-03-15:19:29:27:INFO] files path: /opt/ml/input/data/train\u001b[0m\n",
      "\u001b[34m[2023-03-15:19:29:27:INFO] Determined delimiter of CSV input is ','\u001b[0m\n",
      "\u001b[34m[2023-03-15:19:29:27:INFO] files path: /opt/ml/input/data/validation\u001b[0m\n",
      "\u001b[34m[2023-03-15:19:29:27:INFO] Determined delimiter of CSV input is ','\u001b[0m\n",
      "\u001b[34m[2023-03-15:19:29:27:INFO] Single node training.\u001b[0m\n",
      "\u001b[34m[2023-03-15:19:29:27:INFO] Train matrix has 9602 rows and 7 columns\u001b[0m\n",
      "\u001b[34m[2023-03-15:19:29:27:INFO] Validation matrix has 4116 rows\u001b[0m\n",
      "\u001b[34m[2023-03-15 19:29:27.938 ip-10-0-159-6.ec2.internal:7 INFO json_config.py:92] Creating hook from json_config at /opt/ml/input/config/debughookconfig.json.\u001b[0m\n",
      "\u001b[34m[2023-03-15 19:29:27.939 ip-10-0-159-6.ec2.internal:7 INFO hook.py:206] tensorboard_dir has not been set for the hook. SMDebug will not be exporting tensorboard summaries.\u001b[0m\n",
      "\u001b[34m[2023-03-15 19:29:27.939 ip-10-0-159-6.ec2.internal:7 INFO hook.py:259] Saving to /opt/ml/output/tensors\u001b[0m\n",
      "\u001b[34m[2023-03-15 19:29:27.939 ip-10-0-159-6.ec2.internal:7 INFO state_store.py:77] The checkpoint config file /opt/ml/input/config/checkpointconfig.json does not exist.\u001b[0m\n",
      "\u001b[34m[2023-03-15:19:29:27:INFO] Debug hook created from config\u001b[0m\n",
      "\u001b[34m[2023-03-15 19:29:27.969 ip-10-0-159-6.ec2.internal:7 INFO hook.py:427] Monitoring the collections: metrics\u001b[0m\n",
      "\u001b[34m[2023-03-15 19:29:27.972 ip-10-0-159-6.ec2.internal:7 INFO hook.py:491] Hook is writing from the hook with pid: 7\u001b[0m\n",
      "\u001b[34m[0]#011train-rmse:0.23198#011validation-rmse:0.23041\u001b[0m\n",
      "\u001b[34m[1]#011train-rmse:0.22701#011validation-rmse:0.22552\u001b[0m\n",
      "\u001b[34m[2]#011train-rmse:0.22375#011validation-rmse:0.22245\u001b[0m\n",
      "\u001b[34m[3]#011train-rmse:0.22184#011validation-rmse:0.22060\u001b[0m\n",
      "\u001b[34m[4]#011train-rmse:0.22003#011validation-rmse:0.21893\u001b[0m\n",
      "\u001b[34m[5]#011train-rmse:0.21849#011validation-rmse:0.21745\u001b[0m\n",
      "\u001b[34m[6]#011train-rmse:0.21776#011validation-rmse:0.21668\u001b[0m\n",
      "\u001b[34m[7]#011train-rmse:0.21709#011validation-rmse:0.21593\u001b[0m\n",
      "\u001b[34m[8]#011train-rmse:0.21655#011validation-rmse:0.21529\u001b[0m\n",
      "\u001b[34m[9]#011train-rmse:0.21600#011validation-rmse:0.21475\u001b[0m\n",
      "\u001b[34m[10]#011train-rmse:0.21597#011validation-rmse:0.21472\u001b[0m\n",
      "\u001b[34m[11]#011train-rmse:0.21552#011validation-rmse:0.21433\u001b[0m\n",
      "\u001b[34m[12]#011train-rmse:0.21550#011validation-rmse:0.21431\u001b[0m\n",
      "\u001b[34m[13]#011train-rmse:0.21549#011validation-rmse:0.21431\u001b[0m\n",
      "\u001b[34m[14]#011train-rmse:0.21549#011validation-rmse:0.21431\u001b[0m\n",
      "\u001b[34m[15]#011train-rmse:0.21549#011validation-rmse:0.21431\u001b[0m\n",
      "\u001b[34m[16]#011train-rmse:0.21504#011validation-rmse:0.21385\u001b[0m\n",
      "\u001b[34m[17]#011train-rmse:0.21504#011validation-rmse:0.21385\u001b[0m\n",
      "\u001b[34m[18]#011train-rmse:0.21504#011validation-rmse:0.21385\u001b[0m\n",
      "\u001b[34m[19]#011train-rmse:0.21504#011validation-rmse:0.21385\u001b[0m\n",
      "\u001b[34m[20]#011train-rmse:0.21504#011validation-rmse:0.21385\u001b[0m\n",
      "\u001b[34m[21]#011train-rmse:0.21504#011validation-rmse:0.21385\u001b[0m\n",
      "\u001b[34m[22]#011train-rmse:0.21504#011validation-rmse:0.21385\u001b[0m\n",
      "\u001b[34m[23]#011train-rmse:0.21504#011validation-rmse:0.21385\u001b[0m\n",
      "\u001b[34m[24]#011train-rmse:0.21504#011validation-rmse:0.21385\u001b[0m\n",
      "\u001b[34m[25]#011train-rmse:0.21504#011validation-rmse:0.21385\u001b[0m\n",
      "\u001b[34m[26]#011train-rmse:0.21504#011validation-rmse:0.21385\u001b[0m\n",
      "\u001b[34m[27]#011train-rmse:0.21504#011validation-rmse:0.21386\u001b[0m\n",
      "\u001b[34m[28]#011train-rmse:0.21504#011validation-rmse:0.21385\u001b[0m\n",
      "\u001b[34m[29]#011train-rmse:0.21504#011validation-rmse:0.21385\u001b[0m\n",
      "\u001b[34m[30]#011train-rmse:0.21504#011validation-rmse:0.21385\u001b[0m\n",
      "\u001b[34m[31]#011train-rmse:0.21504#011validation-rmse:0.21385\u001b[0m\n",
      "\u001b[34m[32]#011train-rmse:0.21504#011validation-rmse:0.21385\u001b[0m\n",
      "\u001b[34m[33]#011train-rmse:0.21504#011validation-rmse:0.21385\u001b[0m\n",
      "\u001b[34m[34]#011train-rmse:0.21504#011validation-rmse:0.21385\u001b[0m\n",
      "\u001b[34m[35]#011train-rmse:0.21504#011validation-rmse:0.21385\u001b[0m\n",
      "\u001b[34m[36]#011train-rmse:0.21504#011validation-rmse:0.21385\u001b[0m\n",
      "\u001b[34m[37]#011train-rmse:0.21504#011validation-rmse:0.21385\u001b[0m\n",
      "\u001b[34m[38]#011train-rmse:0.21504#011validation-rmse:0.21385\u001b[0m\n",
      "\u001b[34m[39]#011train-rmse:0.21504#011validation-rmse:0.21385\u001b[0m\n",
      "\u001b[34m[40]#011train-rmse:0.21504#011validation-rmse:0.21385\u001b[0m\n",
      "\u001b[34m[41]#011train-rmse:0.21504#011validation-rmse:0.21385\u001b[0m\n",
      "\u001b[34m[42]#011train-rmse:0.21504#011validation-rmse:0.21385\u001b[0m\n",
      "\u001b[34m[43]#011train-rmse:0.21504#011validation-rmse:0.21385\u001b[0m\n",
      "\u001b[34m[44]#011train-rmse:0.21504#011validation-rmse:0.21385\u001b[0m\n",
      "\u001b[34m[45]#011train-rmse:0.21504#011validation-rmse:0.21385\u001b[0m\n",
      "\u001b[34m[46]#011train-rmse:0.21504#011validation-rmse:0.21385\u001b[0m\n",
      "\u001b[34m[47]#011train-rmse:0.21504#011validation-rmse:0.21385\u001b[0m\n",
      "\u001b[34m[48]#011train-rmse:0.21504#011validation-rmse:0.21386\u001b[0m\n",
      "\u001b[34m[49]#011train-rmse:0.21504#011validation-rmse:0.21386\u001b[0m\n",
      "\n",
      "2023-03-15 19:29:44 Uploading - Uploading generated training model\n",
      "2023-03-15 19:29:44 Completed - Training job completed\n",
      "Training seconds: 108\n",
      "Billable seconds: 49\n",
      "Managed Spot Training savings: 54.6%\n"
     ]
    }
   ],
   "source": [
    "estimator.fit({\"train\": train_input, \"validation\": test_input}, wait=True)"
   ]
  },
  {
   "cell_type": "markdown",
   "id": "ced545b2-0d84-400c-880f-c6d19e6374ef",
   "metadata": {
    "tags": []
   },
   "source": [
    "### 7. Deploy trained xgb model as Endpoint"
   ]
  },
  {
   "cell_type": "code",
   "execution_count": 27,
   "id": "939a8981-7c4f-4e1b-b499-c5faa8676748",
   "metadata": {
    "tags": []
   },
   "outputs": [
    {
     "name": "stderr",
     "output_type": "stream",
     "text": [
      "INFO:sagemaker:Creating model with name: sagemaker-xgboost-2023-03-15-19-30-07-737\n",
      "INFO:sagemaker:Creating endpoint-config with name sagemaker-xgboost-2023-03-15-19-30-07-737\n",
      "INFO:sagemaker:Creating endpoint with name sagemaker-xgboost-2023-03-15-19-30-07-737\n"
     ]
    },
    {
     "name": "stdout",
     "output_type": "stream",
     "text": [
      "------------!"
     ]
    }
   ],
   "source": [
    "from sagemaker.serializers import CSVSerializer\n",
    "\n",
    "xgb_predictor = estimator.deploy(\n",
    "    initial_instance_count=1,\n",
    "    instance_type='ml.t2.medium',\n",
    "    serializer=CSVSerializer()\n",
    ")"
   ]
  },
  {
   "cell_type": "code",
   "execution_count": 28,
   "id": "c55747ce-a20c-48da-a4a2-13a04d8debdb",
   "metadata": {
    "tags": []
   },
   "outputs": [
    {
     "data": {
      "text/plain": [
       "'sagemaker-xgboost-2023-03-15-19-30-07-737'"
      ]
     },
     "execution_count": 28,
     "metadata": {},
     "output_type": "execute_result"
    }
   ],
   "source": [
    "xgb_predictor.endpoint_name"
   ]
  },
  {
   "cell_type": "code",
   "execution_count": 40,
   "id": "c32fb757-1181-4bbf-b0bf-385c95a68c66",
   "metadata": {
    "tags": []
   },
   "outputs": [],
   "source": [
    "x_new=np.array([[2.39,6100.0,10397.4502,282.2,750.0,15,535.0]])"
   ]
  },
  {
   "cell_type": "code",
   "execution_count": 41,
   "id": "cf00f5ae-236a-4bc3-8cba-4da186d1230c",
   "metadata": {
    "tags": []
   },
   "outputs": [
    {
     "name": "stdout",
     "output_type": "stream",
     "text": [
      "0.3924473822116852\n",
      " <class 'str'>\n"
     ]
    }
   ],
   "source": [
    "y_predict=xgb_predictor.predict(x_new).decode('utf-8')\n",
    "print(y_predict, type(y_predict))"
   ]
  },
  {
   "cell_type": "markdown",
   "id": "301757bb-0fff-478c-bbf1-7b57a9e71142",
   "metadata": {},
   "source": [
    "### 8. Lambda function handler"
   ]
  },
  {
   "cell_type": "code",
   "execution_count": 50,
   "id": "1b02f658-4a99-43b5-8810-69fa9713bf85",
   "metadata": {
    "tags": []
   },
   "outputs": [
    {
     "data": {
      "text/plain": [
       "'0.3924473822116852\\n'"
      ]
     },
     "execution_count": 50,
     "metadata": {},
     "output_type": "execute_result"
    }
   ],
   "source": [
    "import boto3\n",
    "\n",
    "ENDPOINT_NAME = 'sagemaker-xgboost-2023-03-15-19-30-07-737'\n",
    "runtime = boto3.client ('runtime.sagemaker')\n",
    "\n",
    "def lambda_handler (event, context):\n",
    "    # inputs = event['data']\n",
    "    inputs=np.array([[2.39,6100.0,10397.4502,282.2,750.0,15,535.0]])\n",
    "    \n",
    "    serialized_input = ','.join(map(str, inputs[0]))\n",
    "    \n",
    "    response = runtime.invoke_endpoint(EndpointName=ENDPOINT_NAME,\n",
    "                                        ContentType='text/csv',\n",
    "                                        Body=serialized_input)\n",
    "    \n",
    "    result = response['Body'].read().decode()\n",
    "    return result\n",
    "\n",
    "Input_json = { 'data':\n",
    "              [[2.39,6100.0,10397.4502,282.2,750.0,15,535.0]]\n",
    "}\n",
    "\n",
    "result=lambda_handler(Input_json, __)\n",
    "result"
   ]
  },
  {
   "cell_type": "markdown",
   "id": "a6ae857d-1292-452c-bdab-38b220a04726",
   "metadata": {},
   "source": [
    "### 9. Creating a lambda function"
   ]
  },
  {
   "cell_type": "markdown",
   "id": "b0ef0b43-41bb-4ecf-aeb2-49d62a6858b3",
   "metadata": {},
   "source": [
    "### 10. Testing API Endpoint"
   ]
  },
  {
   "cell_type": "code",
   "execution_count": 51,
   "id": "27f83648-e9bd-477c-add2-5f3e4873df58",
   "metadata": {
    "tags": []
   },
   "outputs": [],
   "source": [
    "# importing the requests library\n",
    "import requests\n",
    "# defining the api-endpoint\n",
    "API_ENDPOINT=\"https://sfmd4hbbpb.execute-api.us-east-1.amazonaws.com/dev\"\n",
    "# data to be sent to api\n",
    "json = { \"data\":\n",
    "              [[2.39,6100.0,10397.4502,282.2,750.0,15,535.0]],\n",
    "        \"name\": 'John'\n",
    "}\n",
    "# sending post request and saving response as response object\n",
    "r = requests.post (url = API_ENDPOINT, json = json)"
   ]
  },
  {
   "cell_type": "code",
   "execution_count": 52,
   "id": "fc1e7e0e-277a-46e8-bbab-4fefdbf2d2e2",
   "metadata": {
    "tags": []
   },
   "outputs": [
    {
     "name": "stdout",
     "output_type": "stream",
     "text": [
      "Status Code: 200, Response: 0.3924473822116852\n",
      "\n"
     ]
    }
   ],
   "source": [
    "print(f\"Status Code: {r.status_code}, Response: {r.json ()}\")"
   ]
  },
  {
   "cell_type": "code",
   "execution_count": null,
   "id": "0093d97e-9a03-4096-9fe7-6fa2b7a478ed",
   "metadata": {},
   "outputs": [],
   "source": []
  }
 ],
 "metadata": {
  "kernelspec": {
   "display_name": "conda_python3",
   "language": "python",
   "name": "conda_python3"
  },
  "language_info": {
   "codemirror_mode": {
    "name": "ipython",
    "version": 3
   },
   "file_extension": ".py",
   "mimetype": "text/x-python",
   "name": "python",
   "nbconvert_exporter": "python",
   "pygments_lexer": "ipython3",
   "version": "3.10.8"
  }
 },
 "nbformat": 4,
 "nbformat_minor": 5
}
